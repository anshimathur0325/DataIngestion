{
 "cells": [
  {
   "cell_type": "code",
   "execution_count": 1,
   "id": "d7c0a9be",
   "metadata": {},
   "outputs": [
    {
     "name": "stdout",
     "output_type": "stream",
     "text": [
      "Overwriting testutility.py\n"
     ]
    }
   ],
   "source": [
    "%%writefile testutility.py\n",
    "import logging\n",
    "import os\n",
    "import subprocess\n",
    "import yaml\n",
    "import pandas as pd\n",
    "import datetime \n",
    "import gc\n",
    "import re\n",
    "\n",
    "#Read file function\n",
    "\n",
    "def read_config_file(filepath):\n",
    "    with open(filepath, 'r') as stream:\n",
    "        try:\n",
    "            return yaml.safe_load(stream)\n",
    "        except yaml.YAMLError as exc:\n",
    "            logging.error(exc)\n",
    "\n",
    "#returns a string\n",
    "\n",
    "def replacer(string, char):\n",
    "    pattern = char + '{2,}'\n",
    "    string = re.sub(pattern, char, string) \n",
    "    return string\n",
    "\n",
    "#format column names and remove whitespace (Helps with matching YAML column names)\n",
    "\n",
    "def col_header_val(df,table_config):\n",
    "    \n",
    "    df.columns = df.columns.str.lower()\n",
    "    df.columns = df.columns.str.replace('[^\\w]','_',regex=True)\n",
    "    df.columns = list(map(lambda x: x.strip('_'), list(df.columns)))\n",
    "    df.columns = list(map(lambda x: replacer(x,'_'), list(df.columns)))\n",
    "    expected_col = list(map(lambda x: x.lower(),  table_config['columns']))\n",
    "    expected_col.sort()\n",
    "    df.columns =list(map(lambda x: x.lower(), list(df.columns)))\n",
    "    df = df.reindex(sorted(df.columns), axis=1)\n",
    "    if len(df.columns) == len(expected_col) and list(expected_col)  == list(df.columns):\n",
    "        print(\"column name and column length validation passed\")\n",
    "        return 1\n",
    "    else:\n",
    "        print(\"column name and column length validation failed\")\n",
    "        mismatched_columns_file = list(set(df.columns).difference(expected_col))\n",
    "        print(\"Following File columns are not in the YAML file\",mismatched_columns_file)\n",
    "        missing_YAML_file = list(set(expected_col).difference(df.columns))\n",
    "        print(\"Following YAML columns are not in the file uploaded\",missing_YAML_file)\n",
    "        logging.info(f'df columns: {df.columns}')\n",
    "        logging.info(f'expected columns: {expected_col}')\n",
    "        return 0"
   ]
  },
  {
   "cell_type": "code",
   "execution_count": 2,
   "id": "628ebf09",
   "metadata": {},
   "outputs": [
    {
     "name": "stdout",
     "output_type": "stream",
     "text": [
      "Overwriting file.yaml\n"
     ]
    }
   ],
   "source": [
    "%%writefile file.yaml\n",
    "file_type: csv\n",
    "dataset_name: testfile\n",
    "file_name: Log_Problem\n",
    "table_name: edsurv\n",
    "inbound_delimiter: \",\"\n",
    "outbound_delimiter: \"|\"\n",
    "skip_leading_rows: 1\n",
    "columns: \n",
    "    - timestamp_TW\n",
    "    - uuid\n",
    "    - ucid\n",
    "    - upid\n",
    "    - problem_number\n",
    "    - exercise_problem_repeat_session\n",
    "    - is_correct\n",
    "    - total_sec_taken\n",
    "    - total_attempt_cnt\n",
    "    - used_hint_cnt\n",
    "    - is_hint_used\n",
    "    - is_downgrade\n",
    "    - is_upgrade\n",
    "    - level"
   ]
  },
  {
   "cell_type": "code",
   "execution_count": 3,
   "id": "558e2ab8",
   "metadata": {},
   "outputs": [
    {
     "data": {
      "text/plain": [
       "','"
      ]
     },
     "execution_count": 3,
     "metadata": {},
     "output_type": "execute_result"
    }
   ],
   "source": [
    "import testutility as util\n",
    "#configure the data with the YAML file\n",
    "config_data = util.read_config_file(\"file.yaml\")\n",
    "config_data['inbound_delimiter']\n"
   ]
  },
  {
   "cell_type": "code",
   "execution_count": 4,
   "id": "da2b7586",
   "metadata": {},
   "outputs": [
    {
     "data": {
      "text/plain": [
       "{'file_type': 'csv',\n",
       " 'dataset_name': 'testfile',\n",
       " 'file_name': 'Log_Problem',\n",
       " 'table_name': 'edsurv',\n",
       " 'inbound_delimiter': ',',\n",
       " 'outbound_delimiter': '|',\n",
       " 'skip_leading_rows': 1,\n",
       " 'columns': ['timestamp_TW',\n",
       "  'uuid',\n",
       "  'ucid',\n",
       "  'upid',\n",
       "  'problem_number',\n",
       "  'exercise_problem_repeat_session',\n",
       "  'is_correct',\n",
       "  'total_sec_taken',\n",
       "  'total_attempt_cnt',\n",
       "  'used_hint_cnt',\n",
       "  'is_hint_used',\n",
       "  'is_downgrade',\n",
       "  'is_upgrade',\n",
       "  'level']}"
      ]
     },
     "execution_count": 4,
     "metadata": {},
     "output_type": "execute_result"
    }
   ],
   "source": [
    "#config_data contents.\n",
    "config_data"
   ]
  },
  {
   "cell_type": "code",
   "execution_count": 5,
   "id": "22be0968",
   "metadata": {},
   "outputs": [
    {
     "data": {
      "text/html": [
       "<div>\n",
       "<style scoped>\n",
       "    .dataframe tbody tr th:only-of-type {\n",
       "        vertical-align: middle;\n",
       "    }\n",
       "\n",
       "    .dataframe tbody tr th {\n",
       "        vertical-align: top;\n",
       "    }\n",
       "\n",
       "    .dataframe thead th {\n",
       "        text-align: right;\n",
       "    }\n",
       "</style>\n",
       "<table border=\"1\" class=\"dataframe\">\n",
       "  <thead>\n",
       "    <tr style=\"text-align: right;\">\n",
       "      <th></th>\n",
       "      <th>timestamp_TW</th>\n",
       "      <th>uuid</th>\n",
       "      <th>ucid</th>\n",
       "      <th>upid</th>\n",
       "      <th>problem_number</th>\n",
       "      <th>exercise_problem_repeat_session</th>\n",
       "      <th>is_correct</th>\n",
       "      <th>total_sec_taken</th>\n",
       "      <th>total_attempt_cnt</th>\n",
       "      <th>used_hint_cnt</th>\n",
       "      <th>is_hint_used</th>\n",
       "      <th>is_downgrade</th>\n",
       "      <th>is_upgrade</th>\n",
       "      <th>level</th>\n",
       "    </tr>\n",
       "  </thead>\n",
       "  <tbody>\n",
       "    <tr>\n",
       "      <th>0</th>\n",
       "      <td>2019-05-26 21:00:00 UTC</td>\n",
       "      <td>FLy+lviglNR5Y1l0Xiijnl6QHySBcpKHJLCtQ6ogm2Q=</td>\n",
       "      <td>KDOmuTrY/IJzDP4kIgIYCBiGyTymsJ8Iy4cDB35WGYg=</td>\n",
       "      <td>Vbs92l4JmdiWkUEm/iahxnUTaac2oN1IlUtXB7JcfoE=</td>\n",
       "      <td>18</td>\n",
       "      <td>2</td>\n",
       "      <td>True</td>\n",
       "      <td>33</td>\n",
       "      <td>1</td>\n",
       "      <td>0</td>\n",
       "      <td>False</td>\n",
       "      <td>False</td>\n",
       "      <td>True</td>\n",
       "      <td>3</td>\n",
       "    </tr>\n",
       "    <tr>\n",
       "      <th>1</th>\n",
       "      <td>2019-05-17 16:30:00 UTC</td>\n",
       "      <td>+Gqj2nalc6M9fusyVECTC0AN7UQdDQTXESIuElkDltU=</td>\n",
       "      <td>COZ39Wo+uIUO2s7c2VGEHjJf6Vx0xifxVAiaeHtaTdk=</td>\n",
       "      <td>Ek+pIeHNNoEo0tGEq91eBcBmGgy3+A5RWhpj95zTyHM=</td>\n",
       "      <td>4</td>\n",
       "      <td>1</td>\n",
       "      <td>True</td>\n",
       "      <td>8</td>\n",
       "      <td>1</td>\n",
       "      <td>0</td>\n",
       "      <td>False</td>\n",
       "      <td>NaN</td>\n",
       "      <td>NaN</td>\n",
       "      <td>0</td>\n",
       "    </tr>\n",
       "    <tr>\n",
       "      <th>2</th>\n",
       "      <td>2019-05-15 19:15:00 UTC</td>\n",
       "      <td>6D5QN8j8ng/VR74ES3A0zqAj0bIFFyaKjKEj8ZyXjQ8=</td>\n",
       "      <td>TwyqyV1uJYlDAX8wX/PtTCVZEBo/APIVfTzzleGkNCQ=</td>\n",
       "      <td>1MBa2f5Qog4JBoAuUfJf0fxeJctdEirAqKgfsg246eI=</td>\n",
       "      <td>9</td>\n",
       "      <td>1</td>\n",
       "      <td>True</td>\n",
       "      <td>17</td>\n",
       "      <td>1</td>\n",
       "      <td>0</td>\n",
       "      <td>False</td>\n",
       "      <td>NaN</td>\n",
       "      <td>NaN</td>\n",
       "      <td>0</td>\n",
       "    </tr>\n",
       "    <tr>\n",
       "      <th>3</th>\n",
       "      <td>2019-05-05 14:45:00 UTC</td>\n",
       "      <td>GgTZuCqZXObthtK6GAwqvlHrTMm5pKHWeezQxL/pcKc=</td>\n",
       "      <td>tBo6ECyT8IlKAM8UhQHWkqv92PRLcSiwuerfC7vNX+w=</td>\n",
       "      <td>kdMy2nG+QVMjPkuaMEWs0yV/sYZVoG1vm7zM0fCy+qk=</td>\n",
       "      <td>2</td>\n",
       "      <td>1</td>\n",
       "      <td>True</td>\n",
       "      <td>10</td>\n",
       "      <td>1</td>\n",
       "      <td>0</td>\n",
       "      <td>False</td>\n",
       "      <td>NaN</td>\n",
       "      <td>NaN</td>\n",
       "      <td>0</td>\n",
       "    </tr>\n",
       "    <tr>\n",
       "      <th>4</th>\n",
       "      <td>2019-05-14 16:45:00 UTC</td>\n",
       "      <td>JMNKWoU0CkMSzgQ8bCnmCYlD8jEzAVge3lHMYLXKM2g=</td>\n",
       "      <td>vVpSKAMQbTMvtdERR0ksOeRmmaFt0R210t4Z//0RpPA=</td>\n",
       "      <td>jjPR8fmkLSFoCQQYB4g6kI8mgdcK3sKtMirKUvfmZIk=</td>\n",
       "      <td>6</td>\n",
       "      <td>1</td>\n",
       "      <td>True</td>\n",
       "      <td>98</td>\n",
       "      <td>1</td>\n",
       "      <td>0</td>\n",
       "      <td>False</td>\n",
       "      <td>NaN</td>\n",
       "      <td>NaN</td>\n",
       "      <td>0</td>\n",
       "    </tr>\n",
       "  </tbody>\n",
       "</table>\n",
       "</div>"
      ],
      "text/plain": [
       "              timestamp_TW                                          uuid  \\\n",
       "0  2019-05-26 21:00:00 UTC  FLy+lviglNR5Y1l0Xiijnl6QHySBcpKHJLCtQ6ogm2Q=   \n",
       "1  2019-05-17 16:30:00 UTC  +Gqj2nalc6M9fusyVECTC0AN7UQdDQTXESIuElkDltU=   \n",
       "2  2019-05-15 19:15:00 UTC  6D5QN8j8ng/VR74ES3A0zqAj0bIFFyaKjKEj8ZyXjQ8=   \n",
       "3  2019-05-05 14:45:00 UTC  GgTZuCqZXObthtK6GAwqvlHrTMm5pKHWeezQxL/pcKc=   \n",
       "4  2019-05-14 16:45:00 UTC  JMNKWoU0CkMSzgQ8bCnmCYlD8jEzAVge3lHMYLXKM2g=   \n",
       "\n",
       "                                           ucid  \\\n",
       "0  KDOmuTrY/IJzDP4kIgIYCBiGyTymsJ8Iy4cDB35WGYg=   \n",
       "1  COZ39Wo+uIUO2s7c2VGEHjJf6Vx0xifxVAiaeHtaTdk=   \n",
       "2  TwyqyV1uJYlDAX8wX/PtTCVZEBo/APIVfTzzleGkNCQ=   \n",
       "3  tBo6ECyT8IlKAM8UhQHWkqv92PRLcSiwuerfC7vNX+w=   \n",
       "4  vVpSKAMQbTMvtdERR0ksOeRmmaFt0R210t4Z//0RpPA=   \n",
       "\n",
       "                                           upid  problem_number  \\\n",
       "0  Vbs92l4JmdiWkUEm/iahxnUTaac2oN1IlUtXB7JcfoE=              18   \n",
       "1  Ek+pIeHNNoEo0tGEq91eBcBmGgy3+A5RWhpj95zTyHM=               4   \n",
       "2  1MBa2f5Qog4JBoAuUfJf0fxeJctdEirAqKgfsg246eI=               9   \n",
       "3  kdMy2nG+QVMjPkuaMEWs0yV/sYZVoG1vm7zM0fCy+qk=               2   \n",
       "4  jjPR8fmkLSFoCQQYB4g6kI8mgdcK3sKtMirKUvfmZIk=               6   \n",
       "\n",
       "   exercise_problem_repeat_session  is_correct  total_sec_taken  \\\n",
       "0                                2        True               33   \n",
       "1                                1        True                8   \n",
       "2                                1        True               17   \n",
       "3                                1        True               10   \n",
       "4                                1        True               98   \n",
       "\n",
       "   total_attempt_cnt  used_hint_cnt  is_hint_used is_downgrade is_upgrade  \\\n",
       "0                  1              0         False        False       True   \n",
       "1                  1              0         False          NaN        NaN   \n",
       "2                  1              0         False          NaN        NaN   \n",
       "3                  1              0         False          NaN        NaN   \n",
       "4                  1              0         False          NaN        NaN   \n",
       "\n",
       "   level  \n",
       "0      3  \n",
       "1      0  \n",
       "2      0  \n",
       "3      0  \n",
       "4      0  "
      ]
     },
     "execution_count": 5,
     "metadata": {},
     "output_type": "execute_result"
    }
   ],
   "source": [
    "#import csv as a pandas dataframe\n",
    "import pandas as pd\n",
    "df_sample = pd.read_csv(\"Log_Problem.csv\",delimiter=',')\n",
    "df_sample.head()"
   ]
  },
  {
   "cell_type": "code",
   "execution_count": 7,
   "id": "3ca6ea6e",
   "metadata": {},
   "outputs": [
    {
     "name": "stderr",
     "output_type": "stream",
     "text": [
      "C:\\Users\\nites\\AppData\\Local\\Packages\\PythonSoftwareFoundation.Python.3.10_qbz5n2kfra8p0\\LocalCache\\local-packages\\Python310\\site-packages\\IPython\\core\\interactiveshell.py:3398: FutureWarning: In a future version of pandas all arguments of read_csv except for the argument 'filepath_or_buffer' will be keyword-only.\n",
      "  exec(code_obj, self.user_global_ns, self.user_ns)\n"
     ]
    },
    {
     "data": {
      "text/html": [
       "<div>\n",
       "<style scoped>\n",
       "    .dataframe tbody tr th:only-of-type {\n",
       "        vertical-align: middle;\n",
       "    }\n",
       "\n",
       "    .dataframe tbody tr th {\n",
       "        vertical-align: top;\n",
       "    }\n",
       "\n",
       "    .dataframe thead th {\n",
       "        text-align: right;\n",
       "    }\n",
       "</style>\n",
       "<table border=\"1\" class=\"dataframe\">\n",
       "  <thead>\n",
       "    <tr style=\"text-align: right;\">\n",
       "      <th></th>\n",
       "      <th>timestamp_TW</th>\n",
       "      <th>uuid</th>\n",
       "      <th>ucid</th>\n",
       "      <th>upid</th>\n",
       "      <th>problem_number</th>\n",
       "      <th>exercise_problem_repeat_session</th>\n",
       "      <th>is_correct</th>\n",
       "      <th>total_sec_taken</th>\n",
       "      <th>total_attempt_cnt</th>\n",
       "      <th>used_hint_cnt</th>\n",
       "      <th>is_hint_used</th>\n",
       "      <th>is_downgrade</th>\n",
       "      <th>is_upgrade</th>\n",
       "      <th>level</th>\n",
       "    </tr>\n",
       "  </thead>\n",
       "  <tbody>\n",
       "    <tr>\n",
       "      <th>0</th>\n",
       "      <td>2019-05-26 21:00:00 UTC</td>\n",
       "      <td>FLy+lviglNR5Y1l0Xiijnl6QHySBcpKHJLCtQ6ogm2Q=</td>\n",
       "      <td>KDOmuTrY/IJzDP4kIgIYCBiGyTymsJ8Iy4cDB35WGYg=</td>\n",
       "      <td>Vbs92l4JmdiWkUEm/iahxnUTaac2oN1IlUtXB7JcfoE=</td>\n",
       "      <td>18</td>\n",
       "      <td>2</td>\n",
       "      <td>True</td>\n",
       "      <td>33</td>\n",
       "      <td>1</td>\n",
       "      <td>0</td>\n",
       "      <td>False</td>\n",
       "      <td>False</td>\n",
       "      <td>True</td>\n",
       "      <td>3</td>\n",
       "    </tr>\n",
       "    <tr>\n",
       "      <th>1</th>\n",
       "      <td>2019-05-17 16:30:00 UTC</td>\n",
       "      <td>+Gqj2nalc6M9fusyVECTC0AN7UQdDQTXESIuElkDltU=</td>\n",
       "      <td>COZ39Wo+uIUO2s7c2VGEHjJf6Vx0xifxVAiaeHtaTdk=</td>\n",
       "      <td>Ek+pIeHNNoEo0tGEq91eBcBmGgy3+A5RWhpj95zTyHM=</td>\n",
       "      <td>4</td>\n",
       "      <td>1</td>\n",
       "      <td>True</td>\n",
       "      <td>8</td>\n",
       "      <td>1</td>\n",
       "      <td>0</td>\n",
       "      <td>False</td>\n",
       "      <td>NaN</td>\n",
       "      <td>NaN</td>\n",
       "      <td>0</td>\n",
       "    </tr>\n",
       "    <tr>\n",
       "      <th>2</th>\n",
       "      <td>2019-05-15 19:15:00 UTC</td>\n",
       "      <td>6D5QN8j8ng/VR74ES3A0zqAj0bIFFyaKjKEj8ZyXjQ8=</td>\n",
       "      <td>TwyqyV1uJYlDAX8wX/PtTCVZEBo/APIVfTzzleGkNCQ=</td>\n",
       "      <td>1MBa2f5Qog4JBoAuUfJf0fxeJctdEirAqKgfsg246eI=</td>\n",
       "      <td>9</td>\n",
       "      <td>1</td>\n",
       "      <td>True</td>\n",
       "      <td>17</td>\n",
       "      <td>1</td>\n",
       "      <td>0</td>\n",
       "      <td>False</td>\n",
       "      <td>NaN</td>\n",
       "      <td>NaN</td>\n",
       "      <td>0</td>\n",
       "    </tr>\n",
       "    <tr>\n",
       "      <th>3</th>\n",
       "      <td>2019-05-05 14:45:00 UTC</td>\n",
       "      <td>GgTZuCqZXObthtK6GAwqvlHrTMm5pKHWeezQxL/pcKc=</td>\n",
       "      <td>tBo6ECyT8IlKAM8UhQHWkqv92PRLcSiwuerfC7vNX+w=</td>\n",
       "      <td>kdMy2nG+QVMjPkuaMEWs0yV/sYZVoG1vm7zM0fCy+qk=</td>\n",
       "      <td>2</td>\n",
       "      <td>1</td>\n",
       "      <td>True</td>\n",
       "      <td>10</td>\n",
       "      <td>1</td>\n",
       "      <td>0</td>\n",
       "      <td>False</td>\n",
       "      <td>NaN</td>\n",
       "      <td>NaN</td>\n",
       "      <td>0</td>\n",
       "    </tr>\n",
       "    <tr>\n",
       "      <th>4</th>\n",
       "      <td>2019-05-14 16:45:00 UTC</td>\n",
       "      <td>JMNKWoU0CkMSzgQ8bCnmCYlD8jEzAVge3lHMYLXKM2g=</td>\n",
       "      <td>vVpSKAMQbTMvtdERR0ksOeRmmaFt0R210t4Z//0RpPA=</td>\n",
       "      <td>jjPR8fmkLSFoCQQYB4g6kI8mgdcK3sKtMirKUvfmZIk=</td>\n",
       "      <td>6</td>\n",
       "      <td>1</td>\n",
       "      <td>True</td>\n",
       "      <td>98</td>\n",
       "      <td>1</td>\n",
       "      <td>0</td>\n",
       "      <td>False</td>\n",
       "      <td>NaN</td>\n",
       "      <td>NaN</td>\n",
       "      <td>0</td>\n",
       "    </tr>\n",
       "  </tbody>\n",
       "</table>\n",
       "</div>"
      ],
      "text/plain": [
       "              timestamp_TW                                          uuid  \\\n",
       "0  2019-05-26 21:00:00 UTC  FLy+lviglNR5Y1l0Xiijnl6QHySBcpKHJLCtQ6ogm2Q=   \n",
       "1  2019-05-17 16:30:00 UTC  +Gqj2nalc6M9fusyVECTC0AN7UQdDQTXESIuElkDltU=   \n",
       "2  2019-05-15 19:15:00 UTC  6D5QN8j8ng/VR74ES3A0zqAj0bIFFyaKjKEj8ZyXjQ8=   \n",
       "3  2019-05-05 14:45:00 UTC  GgTZuCqZXObthtK6GAwqvlHrTMm5pKHWeezQxL/pcKc=   \n",
       "4  2019-05-14 16:45:00 UTC  JMNKWoU0CkMSzgQ8bCnmCYlD8jEzAVge3lHMYLXKM2g=   \n",
       "\n",
       "                                           ucid  \\\n",
       "0  KDOmuTrY/IJzDP4kIgIYCBiGyTymsJ8Iy4cDB35WGYg=   \n",
       "1  COZ39Wo+uIUO2s7c2VGEHjJf6Vx0xifxVAiaeHtaTdk=   \n",
       "2  TwyqyV1uJYlDAX8wX/PtTCVZEBo/APIVfTzzleGkNCQ=   \n",
       "3  tBo6ECyT8IlKAM8UhQHWkqv92PRLcSiwuerfC7vNX+w=   \n",
       "4  vVpSKAMQbTMvtdERR0ksOeRmmaFt0R210t4Z//0RpPA=   \n",
       "\n",
       "                                           upid  problem_number  \\\n",
       "0  Vbs92l4JmdiWkUEm/iahxnUTaac2oN1IlUtXB7JcfoE=              18   \n",
       "1  Ek+pIeHNNoEo0tGEq91eBcBmGgy3+A5RWhpj95zTyHM=               4   \n",
       "2  1MBa2f5Qog4JBoAuUfJf0fxeJctdEirAqKgfsg246eI=               9   \n",
       "3  kdMy2nG+QVMjPkuaMEWs0yV/sYZVoG1vm7zM0fCy+qk=               2   \n",
       "4  jjPR8fmkLSFoCQQYB4g6kI8mgdcK3sKtMirKUvfmZIk=               6   \n",
       "\n",
       "   exercise_problem_repeat_session  is_correct  total_sec_taken  \\\n",
       "0                                2        True               33   \n",
       "1                                1        True                8   \n",
       "2                                1        True               17   \n",
       "3                                1        True               10   \n",
       "4                                1        True               98   \n",
       "\n",
       "   total_attempt_cnt  used_hint_cnt  is_hint_used is_downgrade is_upgrade  \\\n",
       "0                  1              0         False        False       True   \n",
       "1                  1              0         False          NaN        NaN   \n",
       "2                  1              0         False          NaN        NaN   \n",
       "3                  1              0         False          NaN        NaN   \n",
       "4                  1              0         False          NaN        NaN   \n",
       "\n",
       "   level  \n",
       "0      3  \n",
       "1      0  \n",
       "2      0  \n",
       "3      0  \n",
       "4      0  "
      ]
     },
     "execution_count": 7,
     "metadata": {},
     "output_type": "execute_result"
    }
   ],
   "source": [
    "# read the file using config file\n",
    "file_type = config_data['file_type']\n",
    "source_file = \"./\" + config_data['file_name'] + f'.{file_type}'\n",
    "#print(\"\",source_file)\n",
    "df = pd.read_csv(source_file,config_data['inbound_delimiter'])\n",
    "df.head()"
   ]
  },
  {
   "cell_type": "code",
   "execution_count": 8,
   "id": "a10098fd",
   "metadata": {},
   "outputs": [
    {
     "name": "stdout",
     "output_type": "stream",
     "text": [
      "column name and column length validation passed\n"
     ]
    },
    {
     "data": {
      "text/plain": [
       "1"
      ]
     },
     "execution_count": 8,
     "metadata": {},
     "output_type": "execute_result"
    }
   ],
   "source": [
    "#Verify the columns of config_data and df if they match. \n",
    "util.col_header_val(df,config_data)"
   ]
  },
  {
   "cell_type": "code",
   "execution_count": 9,
   "id": "39656daf",
   "metadata": {},
   "outputs": [
    {
     "name": "stdout",
     "output_type": "stream",
     "text": [
      "columns of files are: Index(['timestamp_tw', 'uuid', 'ucid', 'upid', 'problem_number',\n",
      "       'exercise_problem_repeat_session', 'is_correct', 'total_sec_taken',\n",
      "       'total_attempt_cnt', 'used_hint_cnt', 'is_hint_used', 'is_downgrade',\n",
      "       'is_upgrade', 'level'],\n",
      "      dtype='object')\n",
      "columns of YAML are: ['timestamp_TW', 'uuid', 'ucid', 'upid', 'problem_number', 'exercise_problem_repeat_session', 'is_correct', 'total_sec_taken', 'total_attempt_cnt', 'used_hint_cnt', 'is_hint_used', 'is_downgrade', 'is_upgrade', 'level']\n"
     ]
    }
   ],
   "source": [
    "#Shows that the columns all match between df and config_data\n",
    "print(\"columns of files are:\" ,df.columns)\n",
    "print(\"columns of YAML are:\" ,config_data['columns'])"
   ]
  },
  {
   "cell_type": "code",
   "execution_count": 10,
   "id": "9182c5ae",
   "metadata": {},
   "outputs": [
    {
     "name": "stdout",
     "output_type": "stream",
     "text": [
      "column name and column length validation passed\n",
      "col validation passed\n"
     ]
    }
   ],
   "source": [
    "#Shows that the columns match, printing validation passed. \n",
    "if util.col_header_val(df,config_data)==0:\n",
    "    print(\"validation failed\")\n",
    "else:\n",
    "    print(\"col validation passed\")\n"
   ]
  },
  {
   "cell_type": "code",
   "execution_count": 13,
   "id": "c5da5cb2",
   "metadata": {},
   "outputs": [],
   "source": [
    "#Convert Log_Problem.csv to a pipe separated textfile\n",
    "import csv\n",
    "with open('Log_Problem.csv') as fin:\n",
    "    with open('output.txt', 'w', newline='') as fout:\n",
    "        reader = csv.DictReader(fin, delimiter=',')\n",
    "        writer = csv.DictWriter(fout, reader.fieldnames, delimiter='|')\n",
    "        writer.writeheader()\n",
    "        writer.writerows(reader)\n"
   ]
  },
  {
   "cell_type": "code",
   "execution_count": 14,
   "id": "ea3d6e9a",
   "metadata": {},
   "outputs": [],
   "source": [
    "#Save pipe separated textfiles as a gzp format\n",
    "import gzip\n",
    "import shutil\n",
    "with open('output.txt', 'rb') as f_in:\n",
    "    with gzip.open('output.txt.gz', 'wb') as f_out:\n",
    "        shutil.copyfileobj(f_in, f_out)"
   ]
  },
  {
   "cell_type": "code",
   "execution_count": 15,
   "id": "21c3b1fc",
   "metadata": {},
   "outputs": [
    {
     "name": "stdout",
     "output_type": "stream",
     "text": [
      "Amount of Rows: 16217311\n",
      "Amount of Columns: 14\n",
      "Size of file is 3036971612 bytes\n"
     ]
    }
   ],
   "source": [
    "#Row and column data with file size. \n",
    "import os\n",
    "print(\"Amount of Rows:\",df.shape[0])\n",
    "print(\"Amount of Columns:\",df.shape[1])\n",
    "size = os.path.getsize('output.txt') \n",
    "print(\"Size of file is\", size, \"bytes\")"
   ]
  },
  {
   "cell_type": "code",
   "execution_count": null,
   "id": "122512fe",
   "metadata": {},
   "outputs": [],
   "source": []
  }
 ],
 "metadata": {
  "kernelspec": {
   "display_name": "Python 3 (ipykernel)",
   "language": "python",
   "name": "python3"
  },
  "language_info": {
   "codemirror_mode": {
    "name": "ipython",
    "version": 3
   },
   "file_extension": ".py",
   "mimetype": "text/x-python",
   "name": "python",
   "nbconvert_exporter": "python",
   "pygments_lexer": "ipython3",
   "version": "3.10.6"
  }
 },
 "nbformat": 4,
 "nbformat_minor": 5
}
